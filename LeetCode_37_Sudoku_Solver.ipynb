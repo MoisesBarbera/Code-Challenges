{
 "cells": [
  {
   "cell_type": "markdown",
   "metadata": {},
   "source": [
    "# SUDOKU SOLVER\n",
    "\n",
    "## LeetCode coding challenge number 37\n",
    "\n",
    "### MOISES BARBERA RAMOS    -     https://www.linkedin.com/in/moises-barbera-ramos-8a3848164/\n",
    "\n",
    "\n",
    "Write a program to solve a Sudoku puzzle by filling the empty cells.\n",
    "\n",
    "A sudoku solution must satisfy all of the following rules:\n",
    "\n",
    "    - Each of the digits 1-9 must occur exactly once in each row.\n",
    "    - Each of the digits 1-9 must occur exactly once in each column.\n",
    "    - Each of the the digits 1-9 must occur exactly once in each of the 9 3x3 sub-boxes of the grid.\n",
    "    - Empty cells are indicated by the character '.'."
   ]
  },
  {
   "cell_type": "code",
   "execution_count": null,
   "metadata": {},
   "outputs": [],
   "source": [
    "class Solution:\n",
    "    \n",
    "    def single_finder(self, board, y, x, n):\n",
    "      \n",
    "        for i in range(0, 9):\n",
    "            if board[y][i] == str(n):\n",
    "                return False           # This loop checks if n is on the x axis (row) chosen by y\n",
    "\n",
    "        for i in range(0, 9):\n",
    "            if board[i][x] == str(n):\n",
    "                return False           # This loop checks if n is on the y axis (column) chosen by x\n",
    "\n",
    "        x_0 = (x//3) * 3\n",
    "        y_0 = (y//3) * 3\n",
    "\n",
    "        for i in range(0, 3):\n",
    "            for j in range(0, 3):\n",
    "                if board[y_0 + i][x_0 + j] == str(n):\n",
    "                    return False      # This last set of loops checks if n is in eache of the squares of 9 inputs\n",
    "        return True\n",
    "\n",
    "    def solveSudoku(self, board: List[List[str]]) -> None:          # Recursive algorithm using the previous function\n",
    "            \n",
    "\n",
    "        for y in range(9):\n",
    "            for x in range(9):\n",
    "                if board[y][x] == \".\":            # Check if the coordinates x and y are 0 (empty)\n",
    "                    for n in range(1,10):           \n",
    "                        if self.single_finder(board, y, x, n):   # If xy is empty (0) do the previous funtion recursively\n",
    "                                                                # for all possible values in a sudoku from 1 to 9\n",
    "                            board[y][x] = str(n)     # if n is accepted as the solution at that position\n",
    "\n",
    "                            if self.solveSudoku(board):\n",
    "                                return 1\n",
    "                            else:\n",
    "                                board[y][x] = \".\"\n",
    "                    return 0\n",
    "        return 1\n",
    "    "
   ]
  },
  {
   "cell_type": "markdown",
   "metadata": {},
   "source": [
    "#### Result from submission:\n",
    "\n",
    "Runtime: 1052 ms, faster than 7.39% of Python3 online submissions for Sudoku Solver.\n",
    "\n",
    "Memory Usage: 13.7 MB, less than 10.71% of Python3 online submissions for Sudoku Solver\n",
    "\n",
    "\n",
    "## Step by Step solution using a more visual method:"
   ]
  },
  {
   "cell_type": "code",
   "execution_count": 1,
   "metadata": {},
   "outputs": [],
   "source": [
    "# Loading sudoku input from LeetCode - testcase\n",
    "\n",
    "str_sudoku = [[\"5\",\"3\",\".\",\".\",\"7\",\".\",\".\",\".\",\".\"],[\"6\",\".\",\".\",\"1\",\"9\",\"5\",\".\",\".\",\".\"],[\".\",\"9\",\"8\",\".\",\".\",\".\",\".\",\"6\",\".\"],[\"8\",\".\",\".\",\".\",\"6\",\".\",\".\",\".\",\"3\"],[\"4\",\".\",\".\",\"8\",\".\",\"3\",\".\",\".\",\"1\"],[\"7\",\".\",\".\",\".\",\"2\",\".\",\".\",\".\",\"6\"],[\".\",\"6\",\".\",\".\",\".\",\".\",\"2\",\"8\",\".\"],[\".\",\".\",\".\",\"4\",\"1\",\"9\",\".\",\".\",\"5\"],[\".\",\".\",\".\",\".\",\"8\",\".\",\".\",\"7\",\"9\"]]"
   ]
  },
  {
   "cell_type": "code",
   "execution_count": 2,
   "metadata": {},
   "outputs": [
    {
     "data": {
      "text/plain": [
       "\"[['5', '3', '0', '0', '7', '0', '0', '0', '0'], ['6', '0', '0', '1', '9', '5', '0', '0', '0'], ['0', '9', '8', '0', '0', '0', '0', '6', '0'], ['8', '0', '0', '0', '6', '0', '0', '0', '3'], ['4', '0', '0', '8', '0', '3', '0', '0', '1'], ['7', '0', '0', '0', '2', '0', '0', '0', '6'], ['0', '6', '0', '0', '0', '0', '2', '8', '0'], ['0', '0', '0', '4', '1', '9', '0', '0', '5'], ['0', '0', '0', '0', '8', '0', '0', '7', '9']]\""
      ]
     },
     "execution_count": 2,
     "metadata": {},
     "output_type": "execute_result"
    }
   ],
   "source": [
    "# Substitute all dots by 0s so later we can use only manipulation of integers rather than integers and strings.\n",
    "\n",
    "str_sudoku_0 = str(str_sudoku).replace(\".\", \"0\")\n",
    "str_sudoku_0"
   ]
  },
  {
   "cell_type": "code",
   "execution_count": 3,
   "metadata": {},
   "outputs": [
    {
     "data": {
      "text/plain": [
       "[['5', '3', '0', '0', '7', '0', '0', '0', '0'],\n",
       " ['6', '0', '0', '1', '9', '5', '0', '0', '0'],\n",
       " ['0', '9', '8', '0', '0', '0', '0', '6', '0'],\n",
       " ['8', '0', '0', '0', '6', '0', '0', '0', '3'],\n",
       " ['4', '0', '0', '8', '0', '3', '0', '0', '1'],\n",
       " ['7', '0', '0', '0', '2', '0', '0', '0', '6'],\n",
       " ['0', '6', '0', '0', '0', '0', '2', '8', '0'],\n",
       " ['0', '0', '0', '4', '1', '9', '0', '0', '5'],\n",
       " ['0', '0', '0', '0', '8', '0', '0', '7', '9']]"
      ]
     },
     "execution_count": 3,
     "metadata": {},
     "output_type": "execute_result"
    }
   ],
   "source": [
    "# Clean the sudoku grid by removing the newly appeared string denotation outside the main list\n",
    "\n",
    "import ast\n",
    "str_sudoku_0 = ast.literal_eval(str_sudoku_0)\n",
    "str_sudoku_0"
   ]
  },
  {
   "cell_type": "code",
   "execution_count": 4,
   "metadata": {},
   "outputs": [
    {
     "data": {
      "text/plain": [
       "[[5, 3, 0, 0, 7, 0, 0, 0, 0],\n",
       " [6, 0, 0, 1, 9, 5, 0, 0, 0],\n",
       " [0, 9, 8, 0, 0, 0, 0, 6, 0],\n",
       " [8, 0, 0, 0, 6, 0, 0, 0, 3],\n",
       " [4, 0, 0, 8, 0, 3, 0, 0, 1],\n",
       " [7, 0, 0, 0, 2, 0, 0, 0, 6],\n",
       " [0, 6, 0, 0, 0, 0, 2, 8, 0],\n",
       " [0, 0, 0, 4, 1, 9, 0, 0, 5],\n",
       " [0, 0, 0, 0, 8, 0, 0, 7, 9]]"
      ]
     },
     "execution_count": 4,
     "metadata": {},
     "output_type": "execute_result"
    }
   ],
   "source": [
    "# Go though all the elements in each sublist and check if it is a digit/number or not. \n",
    "# If it is a digit, substitute the string by an int. Else leave the element as a string.\n",
    "\n",
    "for idx, sublist in enumerate(str_sudoku_0):\n",
    "     str_sudoku_0[idx] = [\n",
    "         int(el) if el.isdigit() else el\n",
    "         for el in sublist\n",
    "     ]\n",
    "        \n",
    "int_sudoku = str_sudoku_0.copy()  # Print the cleaned grid formed out of integers\n",
    "int_sudoku"
   ]
  },
  {
   "cell_type": "code",
   "execution_count": 5,
   "metadata": {},
   "outputs": [
    {
     "name": "stdout",
     "output_type": "stream",
     "text": [
      "[[5 3 0 0 7 0 0 0 0]\n",
      " [6 0 0 1 9 5 0 0 0]\n",
      " [0 9 8 0 0 0 0 6 0]\n",
      " [8 0 0 0 6 0 0 0 3]\n",
      " [4 0 0 8 0 3 0 0 1]\n",
      " [7 0 0 0 2 0 0 0 6]\n",
      " [0 6 0 0 0 0 2 8 0]\n",
      " [0 0 0 4 1 9 0 0 5]\n",
      " [0 0 0 0 8 0 0 7 9]]\n"
     ]
    }
   ],
   "source": [
    "import numpy as np\n",
    "print(np.matrix(int_sudoku))   # Display neatly the structure of the sudoku to solve where each 0 is a blank space to fill."
   ]
  },
  {
   "cell_type": "code",
   "execution_count": 6,
   "metadata": {},
   "outputs": [],
   "source": [
    "# Function determining wether at a given position (blank space), we can put a number n\n",
    "\n",
    "def single_finder(y, x, n):\n",
    "    \n",
    "    global int_sudoku  # allows us to modify a variable outside of the current scope. Inside this funtion in our case\n",
    "    \n",
    "    for i in range(0, 9):\n",
    "        if int_sudoku[y][i] == n:\n",
    "            return False           # This loop checks if n is on the x axis (row) chosen by y\n",
    "        \n",
    "    for i in range(0, 9):\n",
    "        if int_sudoku[i][x] == n:\n",
    "            return False           # This loop checks if n is on the y axis (column) chosen by x\n",
    "        \n",
    "    x_0 = (x//3) * 3\n",
    "    y_0 = (y//3) * 3\n",
    "    \n",
    "    for i in range(0, 3):\n",
    "        for j in range(0, 3):\n",
    "            if int_sudoku[y_0 + i][x_0 + j] == n:\n",
    "                return False      # This last set of loops checks if n is in eache of the squares of 9 inputs\n",
    "    return True"
   ]
  },
  {
   "cell_type": "code",
   "execution_count": 7,
   "metadata": {},
   "outputs": [],
   "source": [
    "def total_finder():          # Recursive algorithm using the previous function\n",
    "    \n",
    "    global int_sudoku        # allows us to modify a variable outside of the current scope.\n",
    "    \n",
    "    for y in range(9):\n",
    "        for x in range(9):\n",
    "            if int_sudoku[y][x] == 0:            # Check if the coordinates x and y are 0 (empty)\n",
    "                for n in range(1,10):           \n",
    "                    if single_finder(y, x, n):   # If xy is empty (0) do the previous funtion recursively\n",
    "                                                    # for all possible values in a sudoku from 1 to 9\n",
    "                        \n",
    "                        int_sudoku[y][x] = n     # if n is accepted as the solution at that position\n",
    "                        \n",
    "                        total_finder()           # then run this function recursively for the next empty square\n",
    "                        \n",
    "                        int_sudoku[y][x] = 0     # to backtest, if there has been some wrong decision,\n",
    "                                                    #make the given square again.\n",
    "                return\n",
    "            \n",
    "    print(np.matrix(int_sudoku))                 # Print the resulting solved sudoku\n",
    "    input(\"Are there more solutions? (Press enter to find out)\")    # If there are more solutions to any sudoku,\n",
    "                                                                        # re-run by pressing enter "
   ]
  },
  {
   "cell_type": "code",
   "execution_count": null,
   "metadata": {},
   "outputs": [
    {
     "name": "stdout",
     "output_type": "stream",
     "text": [
      "[[5 3 4 6 7 8 9 1 2]\n",
      " [6 7 2 1 9 5 3 4 8]\n",
      " [1 9 8 3 4 2 5 6 7]\n",
      " [8 5 9 7 6 1 4 2 3]\n",
      " [4 2 6 8 5 3 7 9 1]\n",
      " [7 1 3 9 2 4 8 5 6]\n",
      " [9 6 1 5 3 7 2 8 4]\n",
      " [2 8 7 4 1 9 6 3 5]\n",
      " [3 4 5 2 8 6 1 7 9]]\n"
     ]
    }
   ],
   "source": [
    "total_finder()"
   ]
  },
  {
   "cell_type": "code",
   "execution_count": null,
   "metadata": {},
   "outputs": [],
   "source": []
  }
 ],
 "metadata": {
  "kernelspec": {
   "display_name": "Python 3",
   "language": "python",
   "name": "python3"
  },
  "language_info": {
   "codemirror_mode": {
    "name": "ipython",
    "version": 3
   },
   "file_extension": ".py",
   "mimetype": "text/x-python",
   "name": "python",
   "nbconvert_exporter": "python",
   "pygments_lexer": "ipython3",
   "version": "3.5.2"
  }
 },
 "nbformat": 4,
 "nbformat_minor": 2
}
